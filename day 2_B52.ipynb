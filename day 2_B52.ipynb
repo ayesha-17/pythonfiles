{
 "cells": [
  {
   "cell_type": "code",
   "execution_count": 4,
   "id": "382684d0",
   "metadata": {},
   "outputs": [
    {
     "ename": "SyntaxError",
     "evalue": "invalid syntax (<ipython-input-4-6bcf7193583c>, line 1)",
     "output_type": "error",
     "traceback": [
      "\u001b[1;36m  File \u001b[1;32m\"<ipython-input-4-6bcf7193583c>\"\u001b[1;36m, line \u001b[1;32m1\u001b[0m\n\u001b[1;33m    understanding the variables in python\u001b[0m\n\u001b[1;37m                  ^\u001b[0m\n\u001b[1;31mSyntaxError\u001b[0m\u001b[1;31m:\u001b[0m invalid syntax\n"
     ]
    }
   ],
   "source": [
    "understanding the variables in python"
   ]
  },
  {
   "cell_type": "code",
   "execution_count": 1,
   "id": "790d44cc",
   "metadata": {},
   "outputs": [],
   "source": [
    "x = 5\n",
    "y = 3"
   ]
  },
  {
   "cell_type": "code",
   "execution_count": 2,
   "id": "c9669286",
   "metadata": {},
   "outputs": [
    {
     "data": {
      "text/plain": [
       "8"
      ]
     },
     "execution_count": 2,
     "metadata": {},
     "output_type": "execute_result"
    }
   ],
   "source": [
    "x + y"
   ]
  },
  {
   "cell_type": "code",
   "execution_count": null,
   "id": "0f8d59f4",
   "metadata": {},
   "outputs": [],
   "source": [
    "rules for declaring the variables in python:"
   ]
  },
  {
   "cell_type": "code",
   "execution_count": null,
   "id": "a80190f7",
   "metadata": {},
   "outputs": [],
   "source": [
    "rule no.1 : no name spaces while declaring the variable name ."
   ]
  },
  {
   "cell_type": "code",
   "execution_count": null,
   "id": "5eec84f9",
   "metadata": {},
   "outputs": [],
   "source": []
  },
  {
   "cell_type": "code",
   "execution_count": 2,
   "id": "81aa8b64",
   "metadata": {},
   "outputs": [
    {
     "ename": "SyntaxError",
     "evalue": "invalid syntax (<ipython-input-2-49690a704c4b>, line 1)",
     "output_type": "error",
     "traceback": [
      "\u001b[1;36m  File \u001b[1;32m\"<ipython-input-2-49690a704c4b>\"\u001b[1;36m, line \u001b[1;32m1\u001b[0m\n\u001b[1;33m    first name = 'ayesha'\u001b[0m\n\u001b[1;37m          ^\u001b[0m\n\u001b[1;31mSyntaxError\u001b[0m\u001b[1;31m:\u001b[0m invalid syntax\n"
     ]
    }
   ],
   "source": [
    "first name = 'ayesha'\n",
    "print(first name)"
   ]
  },
  {
   "cell_type": "code",
   "execution_count": 4,
   "id": "069cd398",
   "metadata": {},
   "outputs": [
    {
     "name": "stdout",
     "output_type": "stream",
     "text": [
      "ayesha\n"
     ]
    }
   ],
   "source": [
    "firstname = 'ayesha'\n",
    "print(firstname)"
   ]
  },
  {
   "cell_type": "code",
   "execution_count": null,
   "id": "2bb7fead",
   "metadata": {},
   "outputs": [],
   "source": [
    "rule no.2: a variable name should not start with a number"
   ]
  },
  {
   "cell_type": "code",
   "execution_count": 9,
   "id": "46f68f2e",
   "metadata": {},
   "outputs": [
    {
     "ename": "SyntaxError",
     "evalue": "invalid syntax (<ipython-input-9-2249a6476e31>, line 1)",
     "output_type": "error",
     "traceback": [
      "\u001b[1;36m  File \u001b[1;32m\"<ipython-input-9-2249a6476e31>\"\u001b[1;36m, line \u001b[1;32m1\u001b[0m\n\u001b[1;33m    1name = 'ayesha'\u001b[0m\n\u001b[1;37m     ^\u001b[0m\n\u001b[1;31mSyntaxError\u001b[0m\u001b[1;31m:\u001b[0m invalid syntax\n"
     ]
    }
   ],
   "source": [
    "1name = 'ayesha'\n",
    "print(1name)"
   ]
  },
  {
   "cell_type": "code",
   "execution_count": 10,
   "id": "71bef7c4",
   "metadata": {},
   "outputs": [
    {
     "name": "stdout",
     "output_type": "stream",
     "text": [
      "ayesha\n"
     ]
    }
   ],
   "source": [
    "name1 = 'ayesha'\n",
    "print(name1)"
   ]
  },
  {
   "cell_type": "code",
   "execution_count": null,
   "id": "cf257ed9",
   "metadata": {},
   "outputs": [],
   "source": []
  },
  {
   "cell_type": "raw",
   "id": "37a17392",
   "metadata": {},
   "source": []
  },
  {
   "cell_type": "code",
   "execution_count": null,
   "id": "0e579461",
   "metadata": {},
   "outputs": [],
   "source": [
    "rule no 3 : a variable name should not contain any special characters\n",
    "    @$&*"
   ]
  },
  {
   "cell_type": "code",
   "execution_count": 11,
   "id": "5130f941",
   "metadata": {},
   "outputs": [
    {
     "ename": "SyntaxError",
     "evalue": "invalid syntax (<ipython-input-11-2a30e2065c2e>, line 1)",
     "output_type": "error",
     "traceback": [
      "\u001b[1;36m  File \u001b[1;32m\"<ipython-input-11-2a30e2065c2e>\"\u001b[1;36m, line \u001b[1;32m1\u001b[0m\n\u001b[1;33m    name@ = 'ayesha'\u001b[0m\n\u001b[1;37m          ^\u001b[0m\n\u001b[1;31mSyntaxError\u001b[0m\u001b[1;31m:\u001b[0m invalid syntax\n"
     ]
    }
   ],
   "source": [
    "name@ = 'ayesha'\n",
    "print(name@)"
   ]
  },
  {
   "cell_type": "code",
   "execution_count": null,
   "id": "27f53616",
   "metadata": {},
   "outputs": [],
   "source": [
    "introduction to datatypes in python:\n",
    "        1. string---> str\n",
    "        2. numbers---> integers(int) and float(decimals)(float)\n",
    "        3. list---> list\n",
    "        4. tuple---> tuple\n",
    "        5. dictionaries---> dict"
   ]
  },
  {
   "cell_type": "raw",
   "id": "51e20e8b",
   "metadata": {},
   "source": []
  },
  {
   "cell_type": "code",
   "execution_count": null,
   "id": "d85e6167",
   "metadata": {},
   "outputs": [],
   "source": [
    "classifications of datatypes in python:\n",
    "        1. mutable datatypes ----> which we can edit or alter (flexible ones)\n",
    "        2. immutable datatypes ----> which we cannot edit or alter (fixed ones)"
   ]
  },
  {
   "cell_type": "code",
   "execution_count": null,
   "id": "f4a70694",
   "metadata": {},
   "outputs": [],
   "source": []
  },
  {
   "cell_type": "code",
   "execution_count": null,
   "id": "698107f7",
   "metadata": {},
   "outputs": [],
   "source": [
    "introduction to string datatypes:\n",
    "defination : string is a series of characters enclosed in quotes\n",
    "    \n",
    "classification : it is classified as an immutable datatype\n",
    "    \n",
    "how to declare a string?\n",
    "three possible approches\n",
    "    1. single quotes\n",
    "    2. double quotes\n",
    "    3. triple quotes"
   ]
  },
  {
   "cell_type": "code",
   "execution_count": 13,
   "id": "4828403c",
   "metadata": {},
   "outputs": [
    {
     "name": "stdout",
     "output_type": "stream",
     "text": [
      "ayesha\n"
     ]
    }
   ],
   "source": [
    "name = 'ayesha'\n",
    "print(name)"
   ]
  },
  {
   "cell_type": "code",
   "execution_count": 14,
   "id": "fcf4650e",
   "metadata": {},
   "outputs": [
    {
     "name": "stdout",
     "output_type": "stream",
     "text": [
      "ayesha\n"
     ]
    }
   ],
   "source": [
    "name2 = \"ayesha\"\n",
    "print(name2)"
   ]
  },
  {
   "cell_type": "code",
   "execution_count": 6,
   "id": "0b09cf23",
   "metadata": {},
   "outputs": [],
   "source": [
    "name3 = \"\"\"ayehsa\"\"\""
   ]
  },
  {
   "cell_type": "code",
   "execution_count": 7,
   "id": "6d574d9d",
   "metadata": {},
   "outputs": [
    {
     "name": "stdout",
     "output_type": "stream",
     "text": [
      "ayehsa\n"
     ]
    }
   ],
   "source": [
    "print(name3)"
   ]
  },
  {
   "cell_type": "code",
   "execution_count": null,
   "id": "0a650c92",
   "metadata": {},
   "outputs": [],
   "source": []
  },
  {
   "cell_type": "code",
   "execution_count": null,
   "id": "31246262",
   "metadata": {},
   "outputs": [],
   "source": [
    "# has is used for commenting the lines in python"
   ]
  },
  {
   "cell_type": "code",
   "execution_count": null,
   "id": "6879df06",
   "metadata": {},
   "outputs": [],
   "source": []
  },
  {
   "cell_type": "code",
   "execution_count": null,
   "id": "52f110b5",
   "metadata": {},
   "outputs": [],
   "source": [
    "introduction to string methods :\n",
    "methods are builtin programs that are available to use in python"
   ]
  },
  {
   "cell_type": "code",
   "execution_count": null,
   "id": "99db181f",
   "metadata": {},
   "outputs": [],
   "source": [
    "type ----> it will help in validating the datatypes"
   ]
  },
  {
   "cell_type": "code",
   "execution_count": 15,
   "id": "a8c96704",
   "metadata": {},
   "outputs": [
    {
     "data": {
      "text/plain": [
       "str"
      ]
     },
     "execution_count": 15,
     "metadata": {},
     "output_type": "execute_result"
    }
   ],
   "source": [
    "type(name)"
   ]
  },
  {
   "cell_type": "code",
   "execution_count": 16,
   "id": "32098903",
   "metadata": {},
   "outputs": [
    {
     "data": {
      "text/plain": [
       "str"
      ]
     },
     "execution_count": 16,
     "metadata": {},
     "output_type": "execute_result"
    }
   ],
   "source": [
    "type(name2)"
   ]
  },
  {
   "cell_type": "code",
   "execution_count": null,
   "id": "f607d160",
   "metadata": {},
   "outputs": [],
   "source": []
  },
  {
   "cell_type": "code",
   "execution_count": null,
   "id": "ef118db5",
   "metadata": {},
   "outputs": [],
   "source": [
    "note: python is a case sensitive language"
   ]
  },
  {
   "cell_type": "code",
   "execution_count": null,
   "id": "a562d013",
   "metadata": {},
   "outputs": [],
   "source": []
  },
  {
   "cell_type": "code",
   "execution_count": null,
   "id": "8d2a185a",
   "metadata": {},
   "outputs": [],
   "source": []
  }
 ],
 "metadata": {
  "kernelspec": {
   "display_name": "Python 3",
   "language": "python",
   "name": "python3"
  },
  "language_info": {
   "codemirror_mode": {
    "name": "ipython",
    "version": 3
   },
   "file_extension": ".py",
   "mimetype": "text/x-python",
   "name": "python",
   "nbconvert_exporter": "python",
   "pygments_lexer": "ipython3",
   "version": "3.8.8"
  }
 },
 "nbformat": 4,
 "nbformat_minor": 5
}
